{
 "cells": [
  {
   "cell_type": "code",
   "execution_count": 1,
   "metadata": {},
   "outputs": [
    {
     "name": "stdout",
     "output_type": "stream",
     "text": [
      "Python version: 3.8.3\n"
     ]
    }
   ],
   "source": [
    "# First we want to check what version of python we are running here: \n",
    "import sys\n",
    "print(\"Python version: \" + str(sys.version_info.major) + \".\" + str(sys.version_info.minor) + \".\" + str(sys.version_info.micro))"
   ]
  },
  {
   "cell_type": "code",
   "execution_count": 2,
   "metadata": {},
   "outputs": [
    {
     "name": "stdout",
     "output_type": "stream",
     "text": [
      "Requirement already satisfied: torch in c:\\users\\mixie\\anaconda3\\lib\\site-packages (1.6.0)\n",
      "Requirement already satisfied: future in c:\\users\\mixie\\anaconda3\\lib\\site-packages (from torch) (0.18.2)\n",
      "Requirement already satisfied: numpy in c:\\users\\mixie\\anaconda3\\lib\\site-packages (from torch) (1.18.5)\n",
      "Requirement already satisfied: torchtext in c:\\users\\mixie\\anaconda3\\lib\\site-packages (0.6.0)\n",
      "Requirement already satisfied: numpy in c:\\users\\mixie\\anaconda3\\lib\\site-packages (from torchtext) (1.18.5)\n",
      "Requirement already satisfied: requests in c:\\users\\mixie\\anaconda3\\lib\\site-packages (from torchtext) (2.24.0)\n",
      "Requirement already satisfied: sentencepiece in c:\\users\\mixie\\anaconda3\\lib\\site-packages (from torchtext) (0.1.91)\n",
      "Requirement already satisfied: six in c:\\users\\mixie\\appdata\\roaming\\python\\python38\\site-packages (from torchtext) (1.15.0)\n",
      "Requirement already satisfied: tqdm in c:\\users\\mixie\\anaconda3\\lib\\site-packages (from torchtext) (4.47.0)\n",
      "Requirement already satisfied: torch in c:\\users\\mixie\\anaconda3\\lib\\site-packages (from torchtext) (1.6.0)\n",
      "Requirement already satisfied: urllib3!=1.25.0,!=1.25.1,<1.26,>=1.21.1 in c:\\users\\mixie\\anaconda3\\lib\\site-packages (from requests->torchtext) (1.25.9)\n",
      "Requirement already satisfied: certifi>=2017.4.17 in c:\\users\\mixie\\anaconda3\\lib\\site-packages (from requests->torchtext) (2020.6.20)\n",
      "Requirement already satisfied: idna<3,>=2.5 in c:\\users\\mixie\\anaconda3\\lib\\site-packages (from requests->torchtext) (2.10)\n",
      "Requirement already satisfied: chardet<4,>=3.0.2 in c:\\users\\mixie\\anaconda3\\lib\\site-packages (from requests->torchtext) (3.0.4)\n",
      "Requirement already satisfied: future in c:\\users\\mixie\\anaconda3\\lib\\site-packages (from torch->torchtext) (0.18.2)\n"
     ]
    }
   ],
   "source": [
    "!pip install torch\n",
    "!pip install torchtext"
   ]
  },
  {
   "cell_type": "code",
   "execution_count": 1,
   "metadata": {},
   "outputs": [
    {
     "name": "stdout",
     "output_type": "stream",
     "text": [
      "Successfully imported TorchText module from PyTorch.\n"
     ]
    }
   ],
   "source": [
    "import torchtext\n",
    "print(\"Successfully imported TorchText module from PyTorch.\")"
   ]
  },
  {
   "cell_type": "code",
   "execution_count": 3,
   "metadata": {},
   "outputs": [
    {
     "name": "stdout",
     "output_type": "stream",
     "text": [
      "Successfully imported some datasets from TorchText.\n"
     ]
    }
   ],
   "source": [
    "# Import some datasets from TorchText\n",
    "from torchtext.datasets import text_classification\n",
    "print(\"Successfully imported some datasets from TorchText.\")"
   ]
  },
  {
   "cell_type": "code",
   "execution_count": 4,
   "metadata": {},
   "outputs": [
    {
     "name": "stderr",
     "output_type": "stream",
     "text": [
      ".data\\ag_news_csv.tar.gz: 11.8MB [00:02, 5.04MB/s]\n",
      "120000lines [00:31, 3816.44lines/s]\n",
      "120000lines [01:05, 1831.94lines/s]\n",
      "7600lines [00:04, 1680.21lines/s]\n"
     ]
    }
   ],
   "source": [
    "# Creating a folder called 'data'\n",
    "import os\n",
    "if not os.path.isdir('./.data'):\n",
    "    os.mkdir('./.data')\n",
    "    \n",
    "# Specifying how to break up the dataset into n-words \n",
    "NGRAMS = 2\n",
    "\n",
    "# Load the training dataset and testing dataset\n",
    "train_dataset, test_dataset = text_classification.DATASETS['AG_NEWS'](\n",
    "    root='./.data', ngrams=NGRAMS, vocab=None)"
   ]
  },
  {
   "cell_type": "code",
   "execution_count": 5,
   "metadata": {},
   "outputs": [],
   "source": [
    "# Import the neural network package from PyTorch \n",
    "import torch.nn as nn\n",
    "\n",
    "# We also want to the functional module which contains all the functions in the torch.nn library.\n",
    "import torch.nn.functional as F\n",
    "\n",
    "# Creating a class called TextSentiment that takes in the neural network module from Pytorch.\n",
    "class TextSentiment(nn.Module):\n",
    "    def __init__(self, vocab_size, embed_dim, num_class):\n",
    "        super().__init__()\n",
    "        # The EmbeddingBag module finds the sum or the mean of all the embeddings.\n",
    "        # An embedding allows you to map low-dimensional real vectors that can represent each words to other words that are similar. \n",
    "        self.embedding = nn.EmbeddingBag(vocab_size, embed_dim, sparse=True)\n",
    "        # This does a Linear Transformation which allows the model to learn the weights between the embeddings and maps it to an output class\n",
    "        self.fc = nn.Linear(embed_dim, num_class)\n",
    "        self.init_weights()\n",
    "\n",
    "    def init_weights(self):\n",
    "        # intialization range set at 0.5\n",
    "        initrange = 0.5\n",
    "        self.embedding.weight.data.uniform_(-initrange, initrange)\n",
    "        self.fc.weight.data.uniform_(-initrange, initrange)\n",
    "        self.fc.bias.data.zero_()\n",
    "\n",
    "    # This is the forward propagation which essentially feeds input data into each layer of the model \n",
    "    def forward(self, text, offsets):\n",
    "        embedded = self.embedding(text, offsets)\n",
    "        return self.fc(embedded)"
   ]
  }
 ],
 "metadata": {
  "kernelspec": {
   "display_name": "Python 3",
   "language": "python",
   "name": "python3"
  },
  "language_info": {
   "codemirror_mode": {
    "name": "ipython",
    "version": 3
   },
   "file_extension": ".py",
   "mimetype": "text/x-python",
   "name": "python",
   "nbconvert_exporter": "python",
   "pygments_lexer": "ipython3",
   "version": "3.8.3"
  }
 },
 "nbformat": 4,
 "nbformat_minor": 4
}
