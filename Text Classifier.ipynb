{
 "cells": [
  {
   "cell_type": "code",
   "execution_count": 1,
   "metadata": {},
   "outputs": [
    {
     "name": "stdout",
     "output_type": "stream",
     "text": [
      "Python version: 3.8.3\n"
     ]
    }
   ],
   "source": [
    "# First we want to check what version of python we are running here: \n",
    "import sys\n",
    "print(\"Python version: \" + str(sys.version_info.major) + \".\" + str(sys.version_info.minor) + \".\" + str(sys.version_info.micro))"
   ]
  },
  {
   "cell_type": "code",
   "execution_count": 2,
   "metadata": {},
   "outputs": [
    {
     "name": "stdout",
     "output_type": "stream",
     "text": [
      "Requirement already satisfied: torch in c:\\users\\mixie\\anaconda3\\lib\\site-packages (1.6.0)\n",
      "Requirement already satisfied: future in c:\\users\\mixie\\anaconda3\\lib\\site-packages (from torch) (0.18.2)\n",
      "Requirement already satisfied: numpy in c:\\users\\mixie\\anaconda3\\lib\\site-packages (from torch) (1.18.5)\n",
      "Requirement already satisfied: torchtext in c:\\users\\mixie\\anaconda3\\lib\\site-packages (0.6.0)\n",
      "Requirement already satisfied: numpy in c:\\users\\mixie\\anaconda3\\lib\\site-packages (from torchtext) (1.18.5)\n",
      "Requirement already satisfied: requests in c:\\users\\mixie\\anaconda3\\lib\\site-packages (from torchtext) (2.24.0)\n",
      "Requirement already satisfied: sentencepiece in c:\\users\\mixie\\anaconda3\\lib\\site-packages (from torchtext) (0.1.91)\n",
      "Requirement already satisfied: six in c:\\users\\mixie\\appdata\\roaming\\python\\python38\\site-packages (from torchtext) (1.15.0)\n",
      "Requirement already satisfied: tqdm in c:\\users\\mixie\\anaconda3\\lib\\site-packages (from torchtext) (4.47.0)\n",
      "Requirement already satisfied: torch in c:\\users\\mixie\\anaconda3\\lib\\site-packages (from torchtext) (1.6.0)\n",
      "Requirement already satisfied: urllib3!=1.25.0,!=1.25.1,<1.26,>=1.21.1 in c:\\users\\mixie\\anaconda3\\lib\\site-packages (from requests->torchtext) (1.25.9)\n",
      "Requirement already satisfied: certifi>=2017.4.17 in c:\\users\\mixie\\anaconda3\\lib\\site-packages (from requests->torchtext) (2020.6.20)\n",
      "Requirement already satisfied: idna<3,>=2.5 in c:\\users\\mixie\\anaconda3\\lib\\site-packages (from requests->torchtext) (2.10)\n",
      "Requirement already satisfied: chardet<4,>=3.0.2 in c:\\users\\mixie\\anaconda3\\lib\\site-packages (from requests->torchtext) (3.0.4)\n",
      "Requirement already satisfied: future in c:\\users\\mixie\\anaconda3\\lib\\site-packages (from torch->torchtext) (0.18.2)\n"
     ]
    }
   ],
   "source": [
    "!pip install torch\n",
    "!pip install torchtext"
   ]
  }
 ],
 "metadata": {
  "kernelspec": {
   "display_name": "Python 3",
   "language": "python",
   "name": "python3"
  },
  "language_info": {
   "codemirror_mode": {
    "name": "ipython",
    "version": 3
   },
   "file_extension": ".py",
   "mimetype": "text/x-python",
   "name": "python",
   "nbconvert_exporter": "python",
   "pygments_lexer": "ipython3",
   "version": "3.8.3"
  }
 },
 "nbformat": 4,
 "nbformat_minor": 4
}
